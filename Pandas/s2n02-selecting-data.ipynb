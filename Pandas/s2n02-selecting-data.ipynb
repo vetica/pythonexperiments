{
 "cells": [
  {
   "cell_type": "markdown",
   "metadata": {},
   "source": [
    "# Selecting Data\n",
    "\n",
    "A common need is to grab a subset of records that meet a certain criteria. You can do this by indexing the `DataFrame` much like you've seen done with a `NumPy.ndarray`."
   ]
  },
  {
   "cell_type": "code",
   "execution_count": 1,
   "metadata": {},
   "outputs": [
    {
     "data": {
      "text/plain": [
       "475"
      ]
     },
     "execution_count": 1,
     "metadata": {},
     "output_type": "execute_result"
    }
   ],
   "source": [
    "import os\n",
    "import pandas as pd\n",
    "\n",
    "users = pd.read_csv(os.path.join('data', 'users.csv'), index_col=0)\n",
    "# Pop out a quick sanity check\n",
    "len(users)"
   ]
  },
  {
   "cell_type": "markdown",
   "metadata": {},
   "source": [
    "CashBox uses a referral system, everyone you refer will earn you $5 credit. Let's see if we can find everyone who **has not** yet taken advantage of that deal. The number of referrals a user has made is defined in the **`referral_count`** column."
   ]
  },
  {
   "cell_type": "code",
   "execution_count": 2,
   "metadata": {},
   "outputs": [
    {
     "data": {
      "text/plain": [
       "aaron            False\n",
       "acook            False\n",
       "adam.saunders    False\n",
       "adrian           False\n",
       "adrian.blair     False\n",
       "Name: referral_count, dtype: bool"
      ]
     },
     "execution_count": 2,
     "metadata": {},
     "output_type": "execute_result"
    }
   ],
   "source": [
    "# This vectorized comparison returns a new `Series` ... \n",
    "#   We are naming it so we can use it later.\n",
    "no_referrals_index = users['referral_count'] < 1\n",
    "# See how the boolean `Series` returned includes all rows from the `DataFrame`.\n",
    "#  The value is the result of each comparison\n",
    "no_referrals_index.head()"
   ]
  },
  {
   "cell_type": "markdown",
   "metadata": {},
   "source": [
    "Using the boolean `Series` we just created, **`no_referrals_index`**, we can retrieve all rows where that comparison was True."
   ]
  },
  {
   "cell_type": "code",
   "execution_count": 3,
   "metadata": {},
   "outputs": [
    {
     "data": {
      "text/html": [
       "<div>\n",
       "<style scoped>\n",
       "    .dataframe tbody tr th:only-of-type {\n",
       "        vertical-align: middle;\n",
       "    }\n",
       "\n",
       "    .dataframe tbody tr th {\n",
       "        vertical-align: top;\n",
       "    }\n",
       "\n",
       "    .dataframe thead th {\n",
       "        text-align: right;\n",
       "    }\n",
       "</style>\n",
       "<table border=\"1\" class=\"dataframe\">\n",
       "  <thead>\n",
       "    <tr style=\"text-align: right;\">\n",
       "      <th></th>\n",
       "      <th>first_name</th>\n",
       "      <th>last_name</th>\n",
       "      <th>email</th>\n",
       "      <th>email_verified</th>\n",
       "      <th>signup_date</th>\n",
       "      <th>referral_count</th>\n",
       "      <th>balance</th>\n",
       "    </tr>\n",
       "  </thead>\n",
       "  <tbody>\n",
       "    <tr>\n",
       "      <th>alan9443</th>\n",
       "      <td>Alan</td>\n",
       "      <td>Pope</td>\n",
       "      <td>pope@hotmail.com</td>\n",
       "      <td>True</td>\n",
       "      <td>2018-04-17</td>\n",
       "      <td>0</td>\n",
       "      <td>56.09</td>\n",
       "    </tr>\n",
       "    <tr>\n",
       "      <th>andrew.alvarez</th>\n",
       "      <td>Andrew</td>\n",
       "      <td>Alvarez</td>\n",
       "      <td>aalvarez@hotmail.com</td>\n",
       "      <td>False</td>\n",
       "      <td>2018-08-01</td>\n",
       "      <td>0</td>\n",
       "      <td>81.66</td>\n",
       "    </tr>\n",
       "    <tr>\n",
       "      <th>boyer7005</th>\n",
       "      <td>Sara</td>\n",
       "      <td>Boyer</td>\n",
       "      <td>boyer8636@gmail.com</td>\n",
       "      <td>True</td>\n",
       "      <td>2018-07-31</td>\n",
       "      <td>0</td>\n",
       "      <td>91.41</td>\n",
       "    </tr>\n",
       "    <tr>\n",
       "      <th>brandon.gilbert</th>\n",
       "      <td>Brandon</td>\n",
       "      <td>Gilbert</td>\n",
       "      <td>brandon.gilbert@hotmail.com</td>\n",
       "      <td>True</td>\n",
       "      <td>2018-04-28</td>\n",
       "      <td>0</td>\n",
       "      <td>10.17</td>\n",
       "    </tr>\n",
       "    <tr>\n",
       "      <th>brooke2027</th>\n",
       "      <td>Brooke</td>\n",
       "      <td>NaN</td>\n",
       "      <td>brooke6938@gmail.com</td>\n",
       "      <td>False</td>\n",
       "      <td>2018-05-23</td>\n",
       "      <td>0</td>\n",
       "      <td>7.22</td>\n",
       "    </tr>\n",
       "  </tbody>\n",
       "</table>\n",
       "</div>"
      ],
      "text/plain": [
       "                first_name last_name                        email  \\\n",
       "alan9443              Alan      Pope             pope@hotmail.com   \n",
       "andrew.alvarez      Andrew   Alvarez         aalvarez@hotmail.com   \n",
       "boyer7005             Sara     Boyer          boyer8636@gmail.com   \n",
       "brandon.gilbert    Brandon   Gilbert  brandon.gilbert@hotmail.com   \n",
       "brooke2027          Brooke       NaN         brooke6938@gmail.com   \n",
       "\n",
       "                 email_verified signup_date  referral_count  balance  \n",
       "alan9443                   True  2018-04-17               0    56.09  \n",
       "andrew.alvarez            False  2018-08-01               0    81.66  \n",
       "boyer7005                  True  2018-07-31               0    91.41  \n",
       "brandon.gilbert            True  2018-04-28               0    10.17  \n",
       "brooke2027                False  2018-05-23               0     7.22  "
      ]
     },
     "execution_count": 3,
     "metadata": {},
     "output_type": "execute_result"
    }
   ],
   "source": [
    "users[no_referrals_index].head()"
   ]
  },
  {
   "cell_type": "markdown",
   "metadata": {},
   "source": [
    "## Inversed index\n",
    "A handy shortcut is to prefix the index with a `~` (tilde). This returns the inverse of the boolean `Series`. While I wish that the `~` was called \"the opposite day\" operator, it is in fact called `bitwise not` operator."
   ]
  },
  {
   "cell_type": "code",
   "execution_count": 4,
   "metadata": {},
   "outputs": [
    {
     "data": {
      "text/plain": [
       "aaron            True\n",
       "acook            True\n",
       "adam.saunders    True\n",
       "adrian           True\n",
       "adrian.blair     True\n",
       "Name: referral_count, dtype: bool"
      ]
     },
     "execution_count": 4,
     "metadata": {},
     "output_type": "execute_result"
    }
   ],
   "source": [
    "# Careful, double negative here. We don't need no education.\n",
    "~no_referrals_index.head()"
   ]
  },
  {
   "cell_type": "code",
   "execution_count": 5,
   "metadata": {},
   "outputs": [
    {
     "data": {
      "text/html": [
       "<div>\n",
       "<style scoped>\n",
       "    .dataframe tbody tr th:only-of-type {\n",
       "        vertical-align: middle;\n",
       "    }\n",
       "\n",
       "    .dataframe tbody tr th {\n",
       "        vertical-align: top;\n",
       "    }\n",
       "\n",
       "    .dataframe thead th {\n",
       "        text-align: right;\n",
       "    }\n",
       "</style>\n",
       "<table border=\"1\" class=\"dataframe\">\n",
       "  <thead>\n",
       "    <tr style=\"text-align: right;\">\n",
       "      <th></th>\n",
       "      <th>first_name</th>\n",
       "      <th>last_name</th>\n",
       "      <th>email</th>\n",
       "      <th>email_verified</th>\n",
       "      <th>signup_date</th>\n",
       "      <th>referral_count</th>\n",
       "      <th>balance</th>\n",
       "    </tr>\n",
       "  </thead>\n",
       "  <tbody>\n",
       "    <tr>\n",
       "      <th>aaron</th>\n",
       "      <td>Aaron</td>\n",
       "      <td>Davis</td>\n",
       "      <td>aaron6348@gmail.com</td>\n",
       "      <td>True</td>\n",
       "      <td>2018-08-31</td>\n",
       "      <td>6</td>\n",
       "      <td>18.14</td>\n",
       "    </tr>\n",
       "    <tr>\n",
       "      <th>acook</th>\n",
       "      <td>Anthony</td>\n",
       "      <td>Cook</td>\n",
       "      <td>cook@gmail.com</td>\n",
       "      <td>True</td>\n",
       "      <td>2018-05-12</td>\n",
       "      <td>2</td>\n",
       "      <td>55.45</td>\n",
       "    </tr>\n",
       "    <tr>\n",
       "      <th>adam.saunders</th>\n",
       "      <td>Adam</td>\n",
       "      <td>Saunders</td>\n",
       "      <td>adam@gmail.com</td>\n",
       "      <td>False</td>\n",
       "      <td>2018-05-29</td>\n",
       "      <td>3</td>\n",
       "      <td>72.12</td>\n",
       "    </tr>\n",
       "    <tr>\n",
       "      <th>adrian</th>\n",
       "      <td>Adrian</td>\n",
       "      <td>Yang</td>\n",
       "      <td>adrian.yang@teamtreehouse.com</td>\n",
       "      <td>True</td>\n",
       "      <td>2018-04-28</td>\n",
       "      <td>3</td>\n",
       "      <td>30.01</td>\n",
       "    </tr>\n",
       "    <tr>\n",
       "      <th>adrian.blair</th>\n",
       "      <td>Adrian</td>\n",
       "      <td>Blair</td>\n",
       "      <td>adrian9335@gmail.com</td>\n",
       "      <td>True</td>\n",
       "      <td>2018-06-16</td>\n",
       "      <td>7</td>\n",
       "      <td>25.85</td>\n",
       "    </tr>\n",
       "  </tbody>\n",
       "</table>\n",
       "</div>"
      ],
      "text/plain": [
       "              first_name last_name                          email  \\\n",
       "aaron              Aaron     Davis            aaron6348@gmail.com   \n",
       "acook            Anthony      Cook                 cook@gmail.com   \n",
       "adam.saunders       Adam  Saunders                 adam@gmail.com   \n",
       "adrian            Adrian      Yang  adrian.yang@teamtreehouse.com   \n",
       "adrian.blair      Adrian     Blair           adrian9335@gmail.com   \n",
       "\n",
       "               email_verified signup_date  referral_count  balance  \n",
       "aaron                    True  2018-08-31               6    18.14  \n",
       "acook                    True  2018-05-12               2    55.45  \n",
       "adam.saunders           False  2018-05-29               3    72.12  \n",
       "adrian                   True  2018-04-28               3    30.01  \n",
       "adrian.blair             True  2018-06-16               7    25.85  "
      ]
     },
     "execution_count": 5,
     "metadata": {},
     "output_type": "execute_result"
    }
   ],
   "source": [
    "# Use the inverse of the index to find where referral values DO NOT equal zero\n",
    "users[~no_referrals_index].head()"
   ]
  },
  {
   "cell_type": "markdown",
   "metadata": {},
   "source": [
    "## In `loc`\n",
    "Boolean `Series` as an index may also be used as an index the `DataFrame.loc` object.  "
   ]
  },
  {
   "cell_type": "code",
   "execution_count": 6,
   "metadata": {},
   "outputs": [
    {
     "data": {
      "text/html": [
       "<div>\n",
       "<style scoped>\n",
       "    .dataframe tbody tr th:only-of-type {\n",
       "        vertical-align: middle;\n",
       "    }\n",
       "\n",
       "    .dataframe tbody tr th {\n",
       "        vertical-align: top;\n",
       "    }\n",
       "\n",
       "    .dataframe thead th {\n",
       "        text-align: right;\n",
       "    }\n",
       "</style>\n",
       "<table border=\"1\" class=\"dataframe\">\n",
       "  <thead>\n",
       "    <tr style=\"text-align: right;\">\n",
       "      <th></th>\n",
       "      <th>balance</th>\n",
       "      <th>email</th>\n",
       "    </tr>\n",
       "  </thead>\n",
       "  <tbody>\n",
       "    <tr>\n",
       "      <th>alan9443</th>\n",
       "      <td>56.09</td>\n",
       "      <td>pope@hotmail.com</td>\n",
       "    </tr>\n",
       "    <tr>\n",
       "      <th>andrew.alvarez</th>\n",
       "      <td>81.66</td>\n",
       "      <td>aalvarez@hotmail.com</td>\n",
       "    </tr>\n",
       "    <tr>\n",
       "      <th>boyer7005</th>\n",
       "      <td>91.41</td>\n",
       "      <td>boyer8636@gmail.com</td>\n",
       "    </tr>\n",
       "    <tr>\n",
       "      <th>brandon.gilbert</th>\n",
       "      <td>10.17</td>\n",
       "      <td>brandon.gilbert@hotmail.com</td>\n",
       "    </tr>\n",
       "    <tr>\n",
       "      <th>brooke2027</th>\n",
       "      <td>7.22</td>\n",
       "      <td>brooke6938@gmail.com</td>\n",
       "    </tr>\n",
       "  </tbody>\n",
       "</table>\n",
       "</div>"
      ],
      "text/plain": [
       "                 balance                        email\n",
       "alan9443           56.09             pope@hotmail.com\n",
       "andrew.alvarez     81.66         aalvarez@hotmail.com\n",
       "boyer7005          91.41          boyer8636@gmail.com\n",
       "brandon.gilbert    10.17  brandon.gilbert@hotmail.com\n",
       "brooke2027          7.22         brooke6938@gmail.com"
      ]
     },
     "execution_count": 6,
     "metadata": {},
     "output_type": "execute_result"
    }
   ],
   "source": [
    "# Select rows where there are no referrals, and select only the following ordered columns\n",
    "users.loc[no_referrals_index, ['balance', 'email']].head()"
   ]
  },
  {
   "cell_type": "markdown",
   "metadata": {},
   "source": [
    "It is also possible to do the comparison inline, without storing the index in a variable."
   ]
  },
  {
   "cell_type": "code",
   "execution_count": 7,
   "metadata": {},
   "outputs": [
    {
     "data": {
      "text/html": [
       "<div>\n",
       "<style scoped>\n",
       "    .dataframe tbody tr th:only-of-type {\n",
       "        vertical-align: middle;\n",
       "    }\n",
       "\n",
       "    .dataframe tbody tr th {\n",
       "        vertical-align: top;\n",
       "    }\n",
       "\n",
       "    .dataframe thead th {\n",
       "        text-align: right;\n",
       "    }\n",
       "</style>\n",
       "<table border=\"1\" class=\"dataframe\">\n",
       "  <thead>\n",
       "    <tr style=\"text-align: right;\">\n",
       "      <th></th>\n",
       "      <th>first_name</th>\n",
       "      <th>last_name</th>\n",
       "      <th>email</th>\n",
       "      <th>email_verified</th>\n",
       "      <th>signup_date</th>\n",
       "      <th>referral_count</th>\n",
       "      <th>balance</th>\n",
       "    </tr>\n",
       "  </thead>\n",
       "  <tbody>\n",
       "    <tr>\n",
       "      <th>alan9443</th>\n",
       "      <td>Alan</td>\n",
       "      <td>Pope</td>\n",
       "      <td>pope@hotmail.com</td>\n",
       "      <td>True</td>\n",
       "      <td>2018-04-17</td>\n",
       "      <td>0</td>\n",
       "      <td>56.09</td>\n",
       "    </tr>\n",
       "    <tr>\n",
       "      <th>andrew.alvarez</th>\n",
       "      <td>Andrew</td>\n",
       "      <td>Alvarez</td>\n",
       "      <td>aalvarez@hotmail.com</td>\n",
       "      <td>False</td>\n",
       "      <td>2018-08-01</td>\n",
       "      <td>0</td>\n",
       "      <td>81.66</td>\n",
       "    </tr>\n",
       "    <tr>\n",
       "      <th>boyer7005</th>\n",
       "      <td>Sara</td>\n",
       "      <td>Boyer</td>\n",
       "      <td>boyer8636@gmail.com</td>\n",
       "      <td>True</td>\n",
       "      <td>2018-07-31</td>\n",
       "      <td>0</td>\n",
       "      <td>91.41</td>\n",
       "    </tr>\n",
       "    <tr>\n",
       "      <th>brandon.gilbert</th>\n",
       "      <td>Brandon</td>\n",
       "      <td>Gilbert</td>\n",
       "      <td>brandon.gilbert@hotmail.com</td>\n",
       "      <td>True</td>\n",
       "      <td>2018-04-28</td>\n",
       "      <td>0</td>\n",
       "      <td>10.17</td>\n",
       "    </tr>\n",
       "    <tr>\n",
       "      <th>brooke2027</th>\n",
       "      <td>Brooke</td>\n",
       "      <td>NaN</td>\n",
       "      <td>brooke6938@gmail.com</td>\n",
       "      <td>False</td>\n",
       "      <td>2018-05-23</td>\n",
       "      <td>0</td>\n",
       "      <td>7.22</td>\n",
       "    </tr>\n",
       "  </tbody>\n",
       "</table>\n",
       "</div>"
      ],
      "text/plain": [
       "                first_name last_name                        email  \\\n",
       "alan9443              Alan      Pope             pope@hotmail.com   \n",
       "andrew.alvarez      Andrew   Alvarez         aalvarez@hotmail.com   \n",
       "boyer7005             Sara     Boyer          boyer8636@gmail.com   \n",
       "brandon.gilbert    Brandon   Gilbert  brandon.gilbert@hotmail.com   \n",
       "brooke2027          Brooke       NaN         brooke6938@gmail.com   \n",
       "\n",
       "                 email_verified signup_date  referral_count  balance  \n",
       "alan9443                   True  2018-04-17               0    56.09  \n",
       "andrew.alvarez            False  2018-08-01               0    81.66  \n",
       "boyer7005                  True  2018-07-31               0    91.41  \n",
       "brandon.gilbert            True  2018-04-28               0    10.17  \n",
       "brooke2027                False  2018-05-23               0     7.22  "
      ]
     },
     "execution_count": 7,
     "metadata": {},
     "output_type": "execute_result"
    }
   ],
   "source": [
    "users[users['referral_count'] == 0].head()"
   ]
  },
  {
   "cell_type": "markdown",
   "metadata": {},
   "source": [
    "Just like a NumPy `ndarray`, it's possible for a boolean `Series` to be compared to another boolean `Series` using bitwise operators.\n",
    "\n",
    "Don't forget to surround your expressions with parenthesis to control the order of operations."
   ]
  },
  {
   "cell_type": "code",
   "execution_count": 8,
   "metadata": {},
   "outputs": [
    {
     "data": {
      "text/html": [
       "<div>\n",
       "<style scoped>\n",
       "    .dataframe tbody tr th:only-of-type {\n",
       "        vertical-align: middle;\n",
       "    }\n",
       "\n",
       "    .dataframe tbody tr th {\n",
       "        vertical-align: top;\n",
       "    }\n",
       "\n",
       "    .dataframe thead th {\n",
       "        text-align: right;\n",
       "    }\n",
       "</style>\n",
       "<table border=\"1\" class=\"dataframe\">\n",
       "  <thead>\n",
       "    <tr style=\"text-align: right;\">\n",
       "      <th></th>\n",
       "      <th>first_name</th>\n",
       "      <th>last_name</th>\n",
       "      <th>email</th>\n",
       "      <th>email_verified</th>\n",
       "      <th>signup_date</th>\n",
       "      <th>referral_count</th>\n",
       "      <th>balance</th>\n",
       "    </tr>\n",
       "  </thead>\n",
       "  <tbody>\n",
       "    <tr>\n",
       "      <th>alan9443</th>\n",
       "      <td>Alan</td>\n",
       "      <td>Pope</td>\n",
       "      <td>pope@hotmail.com</td>\n",
       "      <td>True</td>\n",
       "      <td>2018-04-17</td>\n",
       "      <td>0</td>\n",
       "      <td>56.09</td>\n",
       "    </tr>\n",
       "    <tr>\n",
       "      <th>boyer7005</th>\n",
       "      <td>Sara</td>\n",
       "      <td>Boyer</td>\n",
       "      <td>boyer8636@gmail.com</td>\n",
       "      <td>True</td>\n",
       "      <td>2018-07-31</td>\n",
       "      <td>0</td>\n",
       "      <td>91.41</td>\n",
       "    </tr>\n",
       "    <tr>\n",
       "      <th>brandon.gilbert</th>\n",
       "      <td>Brandon</td>\n",
       "      <td>Gilbert</td>\n",
       "      <td>brandon.gilbert@hotmail.com</td>\n",
       "      <td>True</td>\n",
       "      <td>2018-04-28</td>\n",
       "      <td>0</td>\n",
       "      <td>10.17</td>\n",
       "    </tr>\n",
       "    <tr>\n",
       "      <th>bryant</th>\n",
       "      <td>Darlene</td>\n",
       "      <td>Bryant</td>\n",
       "      <td>dbryant@yahoo.com</td>\n",
       "      <td>True</td>\n",
       "      <td>2018-07-19</td>\n",
       "      <td>0</td>\n",
       "      <td>36.91</td>\n",
       "    </tr>\n",
       "    <tr>\n",
       "      <th>calvin.perez</th>\n",
       "      <td>Calvin</td>\n",
       "      <td>Perez</td>\n",
       "      <td>cperez@gmail.com</td>\n",
       "      <td>True</td>\n",
       "      <td>2018-02-17</td>\n",
       "      <td>0</td>\n",
       "      <td>13.01</td>\n",
       "    </tr>\n",
       "  </tbody>\n",
       "</table>\n",
       "</div>"
      ],
      "text/plain": [
       "                first_name last_name                        email  \\\n",
       "alan9443              Alan      Pope             pope@hotmail.com   \n",
       "boyer7005             Sara     Boyer          boyer8636@gmail.com   \n",
       "brandon.gilbert    Brandon   Gilbert  brandon.gilbert@hotmail.com   \n",
       "bryant             Darlene    Bryant            dbryant@yahoo.com   \n",
       "calvin.perez        Calvin     Perez             cperez@gmail.com   \n",
       "\n",
       "                 email_verified signup_date  referral_count  balance  \n",
       "alan9443                   True  2018-04-17               0    56.09  \n",
       "boyer7005                  True  2018-07-31               0    91.41  \n",
       "brandon.gilbert            True  2018-04-28               0    10.17  \n",
       "bryant                     True  2018-07-19               0    36.91  \n",
       "calvin.perez               True  2018-02-17               0    13.01  "
      ]
     },
     "execution_count": 8,
     "metadata": {},
     "output_type": "execute_result"
    }
   ],
   "source": [
    "# Select all users where they haven't made a referral AND their email has been verified\n",
    "users[(users['referral_count'] == 0) & (users['email_verified'] == True)].head()"
   ]
  }
 ],
 "metadata": {
  "kernelspec": {
   "display_name": "Python 3",
   "language": "python",
   "name": "python3"
  },
  "language_info": {
   "codemirror_mode": {
    "name": "ipython",
    "version": 3
   },
   "file_extension": ".py",
   "mimetype": "text/x-python",
   "name": "python",
   "nbconvert_exporter": "python",
   "pygments_lexer": "ipython3",
   "version": "3.7.0"
  }
 },
 "nbformat": 4,
 "nbformat_minor": 2
}
